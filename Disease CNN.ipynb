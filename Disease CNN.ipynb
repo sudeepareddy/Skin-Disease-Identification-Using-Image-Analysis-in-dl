{
 "cells": [
  {
   "cell_type": "markdown",
   "metadata": {},
   "source": [
    "# STEPS \n",
    "#IMPORT LIBRARIES\n",
    "2.PREPROCESS IMACE:\n",
    "    ADD SOME PREPROCESSING FEATURES TO THE REAS=D DATA WHICH \n",
    "    IS CALLED AS ARGUMENTATION FOR THIS WE USE IMAGE \n",
    "    DATA GENERATOR CLASS CREATE A FUNCTION\n",
    "    READ THE DATASET AND APPLY PREPROCESSING FEATURES \n",
    "    WHICH ARE DECLARED ABOVE\n",
    "   3.INITIALISE THE MODEL \n",
    "4.ADD CONV(IMAGE(SHAPE,HOWMANY FEATURE DECTOR,SIZE)\n",
    "5.ADD POOLIN(POOLING SIZE)\n",
    "6.ADD FLATENNING LAYER_INPUT LAYER\n",
    "7.ADD DENSE LAYERS(HIDDEN,OUT)(UNIT,WEIGHTS,ACTIVATION)\n",
    "8.CONFIGURE THE LEARNING(OPTIMIZER ,LOSS, METRICS)\n",
    "9.FIT\n",
    "10.SAVE THE B=MODEL"
   ]
  },
  {
   "cell_type": "raw",
   "metadata": {},
   "source": [
    "CREATE MAIN FOLDER\n",
    "TEST FOLDER:\n",
    "CLASSES\n",
    "TRAIN FOLDER:\n",
    "CLASSES\n",
    "70% FOR TRAIN\n",
    "30% FOR TESTING"
   ]
  },
  {
   "cell_type": "code",
   "execution_count": 2,
   "metadata": {},
   "outputs": [],
   "source": [
    "from keras.models import Sequential\n",
    "from keras.layers import Dense\n",
    "from keras.layers import Convolution2D\n",
    "from keras.layers import MaxPooling2D\n",
    "from keras.layers import Flatten"
   ]
  },
  {
   "cell_type": "code",
   "execution_count": 3,
   "metadata": {},
   "outputs": [],
   "source": [
    "from keras.preprocessing.image import ImageDataGenerator\n",
    "train_datagen = ImageDataGenerator(rescale =1./255,shear_range = 0.2,zoom_range = 0.2,horizontal_flip = True)\n",
    "test_datagen = ImageDataGenerator(rescale =1./255)\n",
    "#0 to 1 \n",
    "#100 images-zoom ,zoom out hori 100*3=300\n",
    "#sher_range_zoome_0.2=20%\n",
    "#these preprocessing are only for trainig not for testing"
   ]
  },
  {
   "cell_type": "code",
   "execution_count": 4,
   "metadata": {},
   "outputs": [
    {
     "name": "stdout",
     "output_type": "stream",
     "text": [
      "Found 2205 images belonging to 5 classes.\n",
      "Found 550 images belonging to 5 classes.\n"
     ]
    }
   ],
   "source": [
    "x_train = train_datagen.flow_from_directory(r\"C:\\Users\\Sri_Harshitha\\Desktop\\skin-disease-identification-using-ML-master\\Dataset\\Dataset\\train\", target_size = (64,64),batch_size = 32, class_mode=\"categorical\")\n",
    "x_test = test_datagen.flow_from_directory(r\"C:\\Users\\Sri_Harshitha\\Desktop\\skin-disease-identification-using-ML-master\\Dataset\\Dataset\\test\", target_size = (64,64),batch_size = 32, class_mode=\"categorical\")"
   ]
  },
  {
   "cell_type": "code",
   "execution_count": 5,
   "metadata": {},
   "outputs": [],
   "source": [
    "import keras\n",
    "from keras.models import Sequential\n",
    "from keras.layers import Dense\n"
   ]
  },
  {
   "cell_type": "code",
   "execution_count": 6,
   "metadata": {},
   "outputs": [],
   "source": [
    "model = Sequential()"
   ]
  },
  {
   "cell_type": "code",
   "execution_count": 7,
   "metadata": {},
   "outputs": [],
   "source": [
    "model.add(Convolution2D(32,(3,3),input_shape = (64,64,3),activation = \"relu\"))"
   ]
  },
  {
   "cell_type": "code",
   "execution_count": 8,
   "metadata": {},
   "outputs": [],
   "source": [
    "model.add(MaxPooling2D(pool_size = (2,2)))\n"
   ]
  },
  {
   "cell_type": "code",
   "execution_count": 9,
   "metadata": {},
   "outputs": [],
   "source": [
    "model.add(Flatten())\n"
   ]
  },
  {
   "cell_type": "code",
   "execution_count": 11,
   "metadata": {},
   "outputs": [],
   "source": [
    "model.add(Dense(units = 240, kernel_initializer = \"random_uniform\",activation = \"relu\"))"
   ]
  },
  {
   "cell_type": "code",
   "execution_count": 12,
   "metadata": {},
   "outputs": [],
   "source": [
    "model.add(Dense(units = 190, kernel_initializer = \"random_uniform\",activation = \"relu\"))"
   ]
  },
  {
   "cell_type": "code",
   "execution_count": 13,
   "metadata": {},
   "outputs": [],
   "source": [
    "model.add(Dense(units = 128, kernel_initializer = \"random_uniform\",activation = \"relu\"))"
   ]
  },
  {
   "cell_type": "code",
   "execution_count": 14,
   "metadata": {},
   "outputs": [],
   "source": [
    "model.add(Dense(units = 5 , kernel_initializer = \"random_uniform\", activation = \"softmax\"))"
   ]
  },
  {
   "cell_type": "code",
   "execution_count": 15,
   "metadata": {},
   "outputs": [],
   "source": [
    "model.compile(optimizer = \"adam\",loss = \"categorical_crossentropy\",metrics = [\"accuracy\"])"
   ]
  },
  {
   "cell_type": "code",
   "execution_count": 16,
   "metadata": {},
   "outputs": [
    {
     "data": {
      "text/plain": [
       "{'Acne': 0, 'Melanoma': 1, 'Psoriasis': 2, 'Rosacea': 3, 'Vitiligo': 4}"
      ]
     },
     "execution_count": 16,
     "metadata": {},
     "output_type": "execute_result"
    }
   ],
   "source": [
    "x_train.class_indices"
   ]
  },
  {
   "cell_type": "code",
   "execution_count": 18,
   "metadata": {},
   "outputs": [
    {
     "name": "stdout",
     "output_type": "stream",
     "text": [
      "Epoch 1/15\n",
      "68/68 [==============================] - 10s 153ms/step - loss: 1.2279 - accuracy: 0.4910\n",
      "Epoch 2/15\n",
      "68/68 [==============================] - 10s 148ms/step - loss: 1.1736 - accuracy: 0.5186\n",
      "Epoch 3/15\n",
      "68/68 [==============================] - 10s 149ms/step - loss: 1.1355 - accuracy: 0.5458\n",
      "Epoch 4/15\n",
      "68/68 [==============================] - 10s 152ms/step - loss: 1.0966 - accuracy: 0.5601\n",
      "Epoch 5/15\n",
      "68/68 [==============================] - 10s 148ms/step - loss: 1.0709 - accuracy: 0.5771\n",
      "Epoch 6/15\n",
      "68/68 [==============================] - 10s 152ms/step - loss: 1.0331 - accuracy: 0.5904\n",
      "Epoch 7/15\n",
      "68/68 [==============================] - 11s 154ms/step - loss: 0.9859 - accuracy: 0.6208\n",
      "Epoch 8/15\n",
      "68/68 [==============================] - 10s 151ms/step - loss: 0.9178 - accuracy: 0.6457\n",
      "Epoch 9/15\n",
      "68/68 [==============================] - 10s 148ms/step - loss: 0.8898 - accuracy: 0.6645\n",
      "Epoch 10/15\n",
      "68/68 [==============================] - 10s 150ms/step - loss: 0.8943 - accuracy: 0.6553\n",
      "Epoch 11/15\n",
      "68/68 [==============================] - 10s 152ms/step - loss: 0.8393 - accuracy: 0.6894\n",
      "Epoch 12/15\n",
      "68/68 [==============================] - 10s 152ms/step - loss: 0.7522 - accuracy: 0.7161\n",
      "Epoch 13/15\n",
      "68/68 [==============================] - 10s 141ms/step - loss: 0.7281 - accuracy: 0.7382\n",
      "Epoch 14/15\n",
      "68/68 [==============================] - 10s 139ms/step - loss: 0.6755 - accuracy: 0.7607\n",
      "Epoch 15/15\n",
      "68/68 [==============================] - 10s 140ms/step - loss: 0.6330 - accuracy: 0.7708\n"
     ]
    },
    {
     "data": {
      "text/plain": [
       "<keras.callbacks.History at 0x174807e8be0>"
      ]
     },
     "execution_count": 18,
     "metadata": {},
     "output_type": "execute_result"
    }
   ],
   "source": [
    "model.fit(x_train, steps_per_epoch = 2205//32,epochs = 15 ,validation_data = x_test , validation_steps = 550//32)"
   ]
  },
  {
   "cell_type": "code",
   "execution_count": 19,
   "metadata": {},
   "outputs": [],
   "source": [
    "model.save(\"Skin_Diseases_1.h5\")"
   ]
  },
  {
   "cell_type": "code",
   "execution_count": null,
   "metadata": {},
   "outputs": [],
   "source": []
  },
  {
   "cell_type": "code",
   "execution_count": null,
   "metadata": {},
   "outputs": [],
   "source": []
  }
 ],
 "metadata": {
  "kernelspec": {
   "display_name": "Python 3",
   "language": "python",
   "name": "python3"
  },
  "language_info": {
   "codemirror_mode": {
    "name": "ipython",
    "version": 3
   },
   "file_extension": ".py",
   "mimetype": "text/x-python",
   "name": "python",
   "nbconvert_exporter": "python",
   "pygments_lexer": "ipython3",
   "version": "3.8.8"
  }
 },
 "nbformat": 4,
 "nbformat_minor": 2
}
